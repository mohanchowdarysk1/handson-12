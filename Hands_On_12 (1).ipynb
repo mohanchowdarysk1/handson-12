{
  "cells": [
    {
      "cell_type": "code",
      "execution_count": 2,
      "metadata": {
        "colab": {
          "base_uri": "https://localhost:8080/"
        },
        "id": "6jt4kTjtGfUn",
        "outputId": "22744194-1d74-446b-cc83-ba069caf2b86"
      },
      "outputs": [
        {
          "name": "stdout",
          "output_type": "stream",
          "text": [
            "Length: 4\n",
            "Elements:\n",
            "4\n",
            "3\n",
            "2\n",
            "1\n"
          ]
        }
      ],
      "source": [
        "import ctypes\n",
        "\n",
        "class DynamicArray:\n",
        "    def __init__(self):\n",
        "        self._n = 0\n",
        "        self._capacity = 1\n",
        "        self._array = self._make_array(self._capacity)\n",
        "\n",
        "    def __len__(self):\n",
        "        return self._n\n",
        "\n",
        "    def __getitem__(self, index):\n",
        "        if not 0 <= index < self._n:\n",
        "            raise IndexError('Invalid index')\n",
        "        return self._array[index]\n",
        "\n",
        "    def append(self, element):\n",
        "        if self._n == self._capacity:\n",
        "            self._resize(2 * self._capacity)\n",
        "        self._array[self._n] = element\n",
        "        self._n += 1\n",
        "\n",
        "    def _resize(self, new_capacity):\n",
        "        new_array = self._make_array(new_capacity)\n",
        "        for i in range(self._n):\n",
        "            new_array[i] = self._array[i]\n",
        "        self._array = new_array\n",
        "        self._capacity = new_capacity\n",
        "\n",
        "    def _make_array(self, capacity):\n",
        "        return (capacity * ctypes.py_object)()\n",
        "\n",
        "# Example usage:\n",
        "dyn_array = DynamicArray()\n",
        "dyn_array.append(4)\n",
        "dyn_array.append(3)\n",
        "dyn_array.append(2)\n",
        "dyn_array.append(1)\n",
        "\n",
        "print(\"Length:\", len(dyn_array))\n",
        "print(\"Elements:\")\n",
        "for i in range(len(dyn_array)):\n",
        "    print(dyn_array[i])\n"
      ]
    }
  ],
  "metadata": {
    "colab": {
      "provenance": []
    },
    "kernelspec": {
      "display_name": "Python 3",
      "name": "python3"
    },
    "language_info": {
      "codemirror_mode": {
        "name": "ipython",
        "version": 3
      },
      "file_extension": ".py",
      "mimetype": "text/x-python",
      "name": "python",
      "nbconvert_exporter": "python",
      "pygments_lexer": "ipython3",
      "version": "3.7.0"
    }
  },
  "nbformat": 4,
  "nbformat_minor": 0
}
